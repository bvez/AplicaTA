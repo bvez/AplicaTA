{
 "cells": [
  {
   "cell_type": "markdown",
   "metadata": {},
   "source": [
    "# Laboratorio 9"
   ]
  },
  {
   "cell_type": "markdown",
   "metadata": {},
   "source": [
    "<p>Para este laboratorio, hemos decidido usar un dataset con los tweets que realizaron las personas frente a Apple</p>"
   ]
  },
  {
   "cell_type": "markdown",
   "metadata": {},
   "source": [
    "## Lectura del archivo de entrada"
   ]
  },
  {
   "cell_type": "code",
   "execution_count": null,
   "metadata": {},
   "outputs": [],
   "source": [
    "import pandas as pd\n",
    "df = pd.read_csv(\"Apple-Twitter-Sentiment-DFE.csv\", header=0,encoding = 'utf_8')"
   ]
  },
  {
   "cell_type": "code",
   "execution_count": 4,
   "metadata": {},
   "outputs": [
    {
     "data": {
      "text/html": [
       "<div>\n",
       "<style>\n",
       "    .dataframe thead tr:only-child th {\n",
       "        text-align: right;\n",
       "    }\n",
       "\n",
       "    .dataframe thead th {\n",
       "        text-align: left;\n",
       "    }\n",
       "\n",
       "    .dataframe tbody tr th {\n",
       "        vertical-align: top;\n",
       "    }\n",
       "</style>\n",
       "<table border=\"1\" class=\"dataframe\">\n",
       "  <thead>\n",
       "    <tr style=\"text-align: right;\">\n",
       "      <th></th>\n",
       "      <th>_unit_id</th>\n",
       "      <th>_golden</th>\n",
       "      <th>_unit_state</th>\n",
       "      <th>_trusted_judgments</th>\n",
       "      <th>_last_judgment_at</th>\n",
       "      <th>sentiment</th>\n",
       "      <th>sentiment:confidence</th>\n",
       "      <th>date</th>\n",
       "      <th>id</th>\n",
       "      <th>query</th>\n",
       "      <th>sentiment_gold</th>\n",
       "      <th>text</th>\n",
       "    </tr>\n",
       "  </thead>\n",
       "  <tbody>\n",
       "    <tr>\n",
       "      <th>2458</th>\n",
       "      <td>623497988</td>\n",
       "      <td>False</td>\n",
       "      <td>finalized</td>\n",
       "      <td>6</td>\n",
       "      <td>12/12/14 2:47</td>\n",
       "      <td>3</td>\n",
       "      <td>0.6420</td>\n",
       "      <td>Sat Dec 06 15:21:15 +0000 2014</td>\n",
       "      <td>5.410000e+17</td>\n",
       "      <td>#AAPL OR @Apple</td>\n",
       "      <td>NaN</td>\n",
       "      <td>@Apple #Patents iPhone Drop Protection Mechani...</td>\n",
       "    </tr>\n",
       "    <tr>\n",
       "      <th>3093</th>\n",
       "      <td>623498623</td>\n",
       "      <td>False</td>\n",
       "      <td>finalized</td>\n",
       "      <td>4</td>\n",
       "      <td>12/12/14 8:35</td>\n",
       "      <td>3</td>\n",
       "      <td>0.7244</td>\n",
       "      <td>Mon Dec 08 18:02:07 +0000 2014</td>\n",
       "      <td>5.420000e+17</td>\n",
       "      <td>#AAPL OR @Apple</td>\n",
       "      <td>NaN</td>\n",
       "      <td>#Apple, #PayPal, And #MobilePayments Worldwide...</td>\n",
       "    </tr>\n",
       "    <tr>\n",
       "      <th>1613</th>\n",
       "      <td>623497137</td>\n",
       "      <td>False</td>\n",
       "      <td>finalized</td>\n",
       "      <td>6</td>\n",
       "      <td>12/12/14 5:25</td>\n",
       "      <td>1</td>\n",
       "      <td>0.4833</td>\n",
       "      <td>Thu Dec 04 21:00:01 +0000 2014</td>\n",
       "      <td>5.410000e+17</td>\n",
       "      <td>#AAPL OR @Apple</td>\n",
       "      <td>NaN</td>\n",
       "      <td>RT @OneRepublic: Studio at 45,000 ft.  One out...</td>\n",
       "    </tr>\n",
       "    <tr>\n",
       "      <th>3114</th>\n",
       "      <td>623498644</td>\n",
       "      <td>False</td>\n",
       "      <td>finalized</td>\n",
       "      <td>3</td>\n",
       "      <td>12/12/14 2:56</td>\n",
       "      <td>1</td>\n",
       "      <td>1.0000</td>\n",
       "      <td>Mon Dec 08 18:29:01 +0000 2014</td>\n",
       "      <td>5.420000e+17</td>\n",
       "      <td>#AAPL OR @Apple</td>\n",
       "      <td>NaN</td>\n",
       "      <td>RT @JPDesloges: Higher Price Targets Are Not H...</td>\n",
       "    </tr>\n",
       "    <tr>\n",
       "      <th>1709</th>\n",
       "      <td>623497233</td>\n",
       "      <td>False</td>\n",
       "      <td>finalized</td>\n",
       "      <td>3</td>\n",
       "      <td>12/12/14 22:06</td>\n",
       "      <td>3</td>\n",
       "      <td>1.0000</td>\n",
       "      <td>Thu Dec 04 22:29:47 +0000 2014</td>\n",
       "      <td>5.410000e+17</td>\n",
       "      <td>#AAPL OR @Apple</td>\n",
       "      <td>NaN</td>\n",
       "      <td>RT @OneRepublic: Studio at 45,000 ft.  One out...</td>\n",
       "    </tr>\n",
       "  </tbody>\n",
       "</table>\n",
       "</div>"
      ],
      "text/plain": [
       "       _unit_id  _golden _unit_state  _trusted_judgments _last_judgment_at  \\\n",
       "2458  623497988    False   finalized                   6     12/12/14 2:47   \n",
       "3093  623498623    False   finalized                   4     12/12/14 8:35   \n",
       "1613  623497137    False   finalized                   6     12/12/14 5:25   \n",
       "3114  623498644    False   finalized                   3     12/12/14 2:56   \n",
       "1709  623497233    False   finalized                   3    12/12/14 22:06   \n",
       "\n",
       "     sentiment  sentiment:confidence                            date  \\\n",
       "2458         3                0.6420  Sat Dec 06 15:21:15 +0000 2014   \n",
       "3093         3                0.7244  Mon Dec 08 18:02:07 +0000 2014   \n",
       "1613         1                0.4833  Thu Dec 04 21:00:01 +0000 2014   \n",
       "3114         1                1.0000  Mon Dec 08 18:29:01 +0000 2014   \n",
       "1709         3                1.0000  Thu Dec 04 22:29:47 +0000 2014   \n",
       "\n",
       "                id            query sentiment_gold  \\\n",
       "2458  5.410000e+17  #AAPL OR @Apple            NaN   \n",
       "3093  5.420000e+17  #AAPL OR @Apple            NaN   \n",
       "1613  5.410000e+17  #AAPL OR @Apple            NaN   \n",
       "3114  5.420000e+17  #AAPL OR @Apple            NaN   \n",
       "1709  5.410000e+17  #AAPL OR @Apple            NaN   \n",
       "\n",
       "                                                   text  \n",
       "2458  @Apple #Patents iPhone Drop Protection Mechani...  \n",
       "3093  #Apple, #PayPal, And #MobilePayments Worldwide...  \n",
       "1613  RT @OneRepublic: Studio at 45,000 ft.  One out...  \n",
       "3114  RT @JPDesloges: Higher Price Targets Are Not H...  \n",
       "1709  RT @OneRepublic: Studio at 45,000 ft.  One out...  "
      ]
     },
     "execution_count": 4,
     "metadata": {},
     "output_type": "execute_result"
    }
   ],
   "source": [
    "df.sample(5)"
   ]
  },
  {
   "cell_type": "markdown",
   "metadata": {},
   "source": [
    "## Limpieza de columnas"
   ]
  },
  {
   "cell_type": "markdown",
   "metadata": {},
   "source": [
    "Eliminamos las columnas que no aportan informacion en cuanto al sentimiento dentro del texto. Estas columnas son las fechas, identificadores y estados."
   ]
  },
  {
   "cell_type": "code",
   "execution_count": 5,
   "metadata": {},
   "outputs": [
    {
     "data": {
      "text/html": [
       "<div>\n",
       "<style>\n",
       "    .dataframe thead tr:only-child th {\n",
       "        text-align: right;\n",
       "    }\n",
       "\n",
       "    .dataframe thead th {\n",
       "        text-align: left;\n",
       "    }\n",
       "\n",
       "    .dataframe tbody tr th {\n",
       "        vertical-align: top;\n",
       "    }\n",
       "</style>\n",
       "<table border=\"1\" class=\"dataframe\">\n",
       "  <thead>\n",
       "    <tr style=\"text-align: right;\">\n",
       "      <th></th>\n",
       "      <th>_golden</th>\n",
       "      <th>_trusted_judgments</th>\n",
       "      <th>sentiment</th>\n",
       "      <th>sentiment:confidence</th>\n",
       "      <th>sentiment_gold</th>\n",
       "      <th>text</th>\n",
       "    </tr>\n",
       "  </thead>\n",
       "  <tbody>\n",
       "    <tr>\n",
       "      <th>274</th>\n",
       "      <td>False</td>\n",
       "      <td>4</td>\n",
       "      <td>3</td>\n",
       "      <td>1.0000</td>\n",
       "      <td>NaN</td>\n",
       "      <td>U.S. Government Attempts 'Hail Mary' to Get #A...</td>\n",
       "    </tr>\n",
       "    <tr>\n",
       "      <th>2082</th>\n",
       "      <td>False</td>\n",
       "      <td>3</td>\n",
       "      <td>5</td>\n",
       "      <td>0.6631</td>\n",
       "      <td>NaN</td>\n",
       "      <td>@APSVirginia special education staff working h...</td>\n",
       "    </tr>\n",
       "    <tr>\n",
       "      <th>2815</th>\n",
       "      <td>False</td>\n",
       "      <td>3</td>\n",
       "      <td>5</td>\n",
       "      <td>1.0000</td>\n",
       "      <td>NaN</td>\n",
       "      <td>Thanks @Apple store @RobinaTC for helping me o...</td>\n",
       "    </tr>\n",
       "    <tr>\n",
       "      <th>196</th>\n",
       "      <td>False</td>\n",
       "      <td>3</td>\n",
       "      <td>3</td>\n",
       "      <td>1.0000</td>\n",
       "      <td>NaN</td>\n",
       "      <td>MacBook Pro 13   Non-retina First Startup: htt...</td>\n",
       "    </tr>\n",
       "    <tr>\n",
       "      <th>1239</th>\n",
       "      <td>False</td>\n",
       "      <td>3</td>\n",
       "      <td>3</td>\n",
       "      <td>1.0000</td>\n",
       "      <td>NaN</td>\n",
       "      <td>Apple Details An Elaborate Transit Navigation ...</td>\n",
       "    </tr>\n",
       "  </tbody>\n",
       "</table>\n",
       "</div>"
      ],
      "text/plain": [
       "      _golden  _trusted_judgments sentiment  sentiment:confidence  \\\n",
       "274     False                   4         3                1.0000   \n",
       "2082    False                   3         5                0.6631   \n",
       "2815    False                   3         5                1.0000   \n",
       "196     False                   3         3                1.0000   \n",
       "1239    False                   3         3                1.0000   \n",
       "\n",
       "     sentiment_gold                                               text  \n",
       "274             NaN  U.S. Government Attempts 'Hail Mary' to Get #A...  \n",
       "2082            NaN  @APSVirginia special education staff working h...  \n",
       "2815            NaN  Thanks @Apple store @RobinaTC for helping me o...  \n",
       "196             NaN  MacBook Pro 13   Non-retina First Startup: htt...  \n",
       "1239            NaN  Apple Details An Elaborate Transit Navigation ...  "
      ]
     },
     "execution_count": 5,
     "metadata": {},
     "output_type": "execute_result"
    }
   ],
   "source": [
    "df2 = df.drop([\"_unit_id\",\"_unit_state\",\"date\",\"id\",\"query\",\"_last_judgment_at\"],axis=1)\n",
    "df2.sample(5)"
   ]
  },
  {
   "cell_type": "markdown",
   "metadata": {},
   "source": [
    "## Separacion de datos"
   ]
  },
  {
   "cell_type": "markdown",
   "metadata": {},
   "source": [
    "Separamos la columna \"sentiment\" que es el dato final que queremos lograr. Además dividimos los datos de forma que el 80% de los datos servirá para entrenar y el 20% restante servirá para probar."
   ]
  },
  {
   "cell_type": "code",
   "execution_count": 11,
   "metadata": {},
   "outputs": [],
   "source": [
    "X_all = df2.drop(['sentiment'],axis=1)\n",
    "y_all = df2['sentiment']\n",
    "from sklearn.model_selection import train_test_split\n",
    "from sklearn.metrics import accuracy_score\n",
    "\n",
    "num_test = 0.20\n",
    "X_train, X_test, y_train, y_test = train_test_split(X_all, y_all, test_size=num_test)"
   ]
  },
  {
   "cell_type": "code",
   "execution_count": 7,
   "metadata": {},
   "outputs": [
    {
     "name": "stdout",
     "output_type": "stream",
     "text": [
      "1700    RT @OneRepublic: Studio at 45,000 ft.  One out...\n",
      "142     just need @apple to come out with a charger co...\n",
      "2501    RT @chemixcalbieber: '@WhoaBiebz: GET YOUR SHI...\n",
      "569              @iirwanks ICK YO @apple Autocorrect RUSE\n",
      "68      Photo: Love IOS 8 @apple @iphone #Love #IOS8 #...\n",
      "2242    Why can't Apple meet demand for the iPhone 6? ...\n",
      "3558      @apple thanks for making the shittiest chargers\n",
      "1792    Apple Inc. Patent To Protect Falling iPhones I...\n",
      "2843    I hope no one ever cons me into getting anothe...\n",
      "2301    RT @Metzzler: Hey @apple how about you guys ma...\n",
      "322     #AAPL:6 Reasons Apple Could Have Fallen 6% Yes...\n",
      "173     MacBook Pro 13in Unboxing: http://t.co/F3IM9Yb...\n",
      "2717    Been waiting 7 days so far for @apple to appro...\n",
      "664     PRINCIPLED TRUTHS: Eddy Cue Talks to Fortune a...\n",
      "2276    @stackizshort streaming now from @Apple #NYC 5...\n",
      "3079    We know that @Apple have a strong supply chain...\n",
      "394     Hey @apple: Love ya but #AppleCare low-fi hold...\n",
      "1134                                      Fuck you @apple\n",
      "1178    RT @_coreDump: Your OSX built in @firefox #key...\n",
      "2635                     @yungshamwow @Apple apple sucks,\n",
      "581     my dad called now my musics arent playing jesu...\n",
      "3084    Job Listings Suggest Apple Plans to Boost Its ...\n",
      "1660    RT @OneRepublic: Studio at 45,000 ft.  One out...\n",
      "3391    @TeamCavuto @Apple Blacks (13% of pop.) murder...\n",
      "2305    Had a job interview?No idea how to be @apple s...\n",
      "2280    Final #AAPL #PutCallRatios for Friday, Decembe...\n",
      "2331                            @apple on hold 56 min....\n",
      "1435    RT @OneRepublic: Studio at 45,000 ft.  One out...\n",
      "1550    RT @OneRepublic: Studio at 45,000 ft.  One out...\n",
      "2591    @stevewoz @Outback Its good to see you doing t...\n",
      "                              ...                        \n",
      "797     @jokigenki @Apple I think it's like 2011? Can'...\n",
      "1238    I've been waiting 2 months for my iPhone 6+ wh...\n",
      "1149    #AAPL:Bloomberg Law: $1 Billion Antitrust Suit...\n",
      "192     @HammerArcade This makes me feel so sad ;-; WH...\n",
      "1715    RT @OneRepublic: Studio at 45,000 ft.  One out...\n",
      "1774    Final #AAPL #PutCallRatios for Thursday, Decem...\n",
      "2608    GREAT READ: Why @Apple @Facebook and @Google c...\n",
      "3475    RT @TeamCavuto: Protesters stage #DieIn protes...\n",
      "1010    @whereiscooldude @Cyrus_T_Virus @Apple wait no...\n",
      "2660    RT @OneRepublic: Studio at 45,000 ft.  One out...\n",
      "2801    @brock_and_r0ll @Apple @sam_sock hey I look we...\n",
      "409     CNBCTV:  Day 1: #Apple's antitrust trial #aapl...\n",
      "2265    BREAKING: #NYC #EricGarnet protestors occupy @...\n",
      "123                  Fix it @apple http://t.co/cHoq6LHeHo\n",
      "3018    @smileforgoogle @Apple yknow that time it rest...\n",
      "2306    Just trying to buy a charger at @apple! #prote...\n",
      "718     WHY? WHY HAVE YOU PUT GAY STUFF IN MY FUCKING ...\n",
      "1030    Apple Releases Safari 8.0.1, 7.1.1, and 6.2.1 ...\n",
      "1629    RT @OneRepublic: Studio at 45,000 ft.  One out...\n",
      "1649    Now this is a nice 'Cup and Handle'   http://t...\n",
      "3359    RT @TeamCavuto: Protesters stage #DieIn protes...\n",
      "2830    @AllenYork @CarlaBarlaCakes @Apple you can alr...\n",
      "2499    RT @chemixcalbieber: '@WhoaBiebz: GET YOUR SHI...\n",
      "575     It would be nice if I could type more than one...\n",
      "3093    #Apple, #PayPal, And #MobilePayments Worldwide...\n",
      "3281    @VRich_ I want a gold metallic MacBook to go w...\n",
      "670     .@apple there needs to be a finger gun emoji P...\n",
      "1658    RT @OneRepublic: Studio at 45,000 ft.  One out...\n",
      "3640    Translate Your App! Success story from TAUS me...\n",
      "1172    I thought this shit was suppose to be gorilla ...\n",
      "Name: text, Length: 3108, dtype: object\n",
      "just need @apple to come out with a charger cord that keep a charge &amp; don't fall apart http://t.co/VZ8HDbMzlu\n"
     ]
    }
   ],
   "source": [
    "import numpy as np\n",
    "titles =np.array(X_train[\"text\"])\n",
    "print(X_train[\"text\"])\n",
    "print(titles[1])"
   ]
  },
  {
   "cell_type": "code",
   "execution_count": 8,
   "metadata": {},
   "outputs": [],
   "source": [
    "import re\n",
    "text = \" \".join(titles) "
   ]
  },
  {
   "cell_type": "code",
   "execution_count": null,
   "metadata": {},
   "outputs": [],
   "source": []
  },
  {
   "cell_type": "code",
   "execution_count": null,
   "metadata": {},
   "outputs": [],
   "source": []
  }
 ],
 "metadata": {
  "kernelspec": {
   "display_name": "Python 3",
   "language": "python",
   "name": "python3"
  },
  "language_info": {
   "codemirror_mode": {
    "name": "ipython",
    "version": 3
   },
   "file_extension": ".py",
   "mimetype": "text/x-python",
   "name": "python",
   "nbconvert_exporter": "python",
   "pygments_lexer": "ipython3",
   "version": "3.6.5"
  }
 },
 "nbformat": 4,
 "nbformat_minor": 2
}
