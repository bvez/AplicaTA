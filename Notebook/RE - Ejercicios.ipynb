{
 "cells": [
  {
   "cell_type": "markdown",
   "metadata": {},
   "source": [
    "# RE en Python\n",
    "https://docs.python.org/2/library/re.html"
   ]
  },
  {
   "cell_type": "code",
   "execution_count": 1,
   "metadata": {},
   "outputs": [],
   "source": [
    "#Python\n",
    "import re"
   ]
  },
  {
   "cell_type": "code",
   "execution_count": 2,
   "metadata": {},
   "outputs": [
    {
     "data": {
      "text/plain": [
       "'[wW]oodchucks?|[gG]roundhogs?'"
      ]
     },
     "execution_count": 2,
     "metadata": {},
     "output_type": "execute_result"
    }
   ],
   "source": [
    "#Los patrones se escriben como Raw Text:\n",
    "pattern = r\"[wW]oodchucks?|[gG]roundhogs?\"\n",
    "pattern"
   ]
  },
  {
   "cell_type": "code",
   "execution_count": 3,
   "metadata": {},
   "outputs": [
    {
     "data": {
      "text/plain": [
       "['Woodchuck', 'woodchucks', 'groundhogs']"
      ]
     },
     "execution_count": 3,
     "metadata": {},
     "output_type": "execute_result"
    }
   ],
   "source": [
    "#Se pueden buscar las coincidencias:\n",
    "re.findall(pattern, \"Woodchuck: the woodchucks are also known as groundhogs\")"
   ]
  },
  {
   "cell_type": "code",
   "execution_count": 4,
   "metadata": {},
   "outputs": [
    {
     "data": {
      "text/plain": [
       "'MATCH: the MATCH are also known as MATCH'"
      ]
     },
     "execution_count": 4,
     "metadata": {},
     "output_type": "execute_result"
    }
   ],
   "source": [
    "#Se pueden reemplazar directamente:\n",
    "re.sub(pattern, \"MATCH\",\"Woodchuck: the woodchucks are also known as groundhogs\")"
   ]
  },
  {
   "cell_type": "code",
   "execution_count": null,
   "metadata": {},
   "outputs": [],
   "source": [
    "#Otras funciones: (NO EJECUTAR)\n",
    "re.compile\n",
    "re.match\n",
    "re.search"
   ]
  },
  {
   "cell_type": "markdown",
   "metadata": {},
   "source": [
    "<b>Precedencia de operadores en Regex:\n",
    "<br><img src=\"Precedence.png\" width=\"300\" align=\"left\">"
   ]
  },
  {
   "cell_type": "markdown",
   "metadata": {},
   "source": [
    "### Ejemplo: \"the\""
   ]
  },
  {
   "cell_type": "markdown",
   "metadata": {},
   "source": [
    "Queremos extraer el término \"the\":"
   ]
  },
  {
   "cell_type": "code",
   "execution_count": 5,
   "metadata": {},
   "outputs": [],
   "source": [
    "text = \"The theology and the practice of the other\""
   ]
  },
  {
   "cell_type": "code",
   "execution_count": 6,
   "metadata": {},
   "outputs": [
    {
     "data": {
      "text/plain": [
       "'The *ology and * practice of * o*r'"
      ]
     },
     "execution_count": 6,
     "metadata": {},
     "output_type": "execute_result"
    }
   ],
   "source": [
    "# Primer intento:\n",
    "re.sub(r\"the\",\"*\", text)"
   ]
  },
  {
   "cell_type": "code",
   "execution_count": 7,
   "metadata": {},
   "outputs": [
    {
     "data": {
      "text/plain": [
       "'* *ology and * practice of * o*r'"
      ]
     },
     "execution_count": 7,
     "metadata": {},
     "output_type": "execute_result"
    }
   ],
   "source": [
    "# Segundo intento:\n",
    "re.sub(r\"[tT]he\",\"*\", text)"
   ]
  },
  {
   "cell_type": "code",
   "execution_count": 8,
   "metadata": {},
   "outputs": [
    {
     "data": {
      "text/plain": [
       "'* theology and * practice of * other'"
      ]
     },
     "execution_count": 8,
     "metadata": {},
     "output_type": "execute_result"
    }
   ],
   "source": [
    "# Tercer intento:\n",
    "re.sub(r\"\\b[tT]he\\b\",\"*\", text)"
   ]
  },
  {
   "cell_type": "code",
   "execution_count": 9,
   "metadata": {},
   "outputs": [
    {
     "data": {
      "text/plain": [
       "'*theology and*practice of*other'"
      ]
     },
     "execution_count": 9,
     "metadata": {},
     "output_type": "execute_result"
    }
   ],
   "source": [
    "# Sin el anchor '\\b':\n",
    "re.sub(r\"(^|[^a-zA-Z])[tT]he([^a-zA-Z]|$)\",\"*\", text)"
   ]
  },
  {
   "cell_type": "code",
   "execution_count": 10,
   "metadata": {},
   "outputs": [
    {
     "data": {
      "text/plain": [
       "'* theology and * practice of * other'"
      ]
     },
     "execution_count": 10,
     "metadata": {},
     "output_type": "execute_result"
    }
   ],
   "source": [
    "# Sin el anchor '\\b', usando \"look behind\" o \"look after\":\n",
    "re.sub(r\"(^|(?<=[^a-zA-Z]))[tT]he(?=[^a-zA-Z]|$)\",\"*\", text)"
   ]
  },
  {
   "cell_type": "markdown",
   "metadata": {},
   "source": [
    "<b>Límites sin usar \\b (word boundaries):\n",
    "<br>(Es útil porque '\\b' no funciona cuando encierras términos no alfanuméricos, p.e. un precio con signo $)"
   ]
  },
  {
   "cell_type": "code",
   "execution_count": null,
   "metadata": {},
   "outputs": [],
   "source": [
    "#Inicio: (?:^|(?<=\\s)) o (?:^|(?<!\\w))\n",
    "#Fin: (?=\\s|$)"
   ]
  },
  {
   "cell_type": "markdown",
   "metadata": {},
   "source": [
    "### Ejercicio: Precision, Recall\n",
    "<img src=\"https://upload.wikimedia.org/wikipedia/commons/2/26/Precisionrecall.svg\" align=\"left\">"
   ]
  },
  {
   "cell_type": "code",
   "execution_count": 11,
   "metadata": {},
   "outputs": [],
   "source": [
    "def precision(TP,FP):\n",
    "    return 1.*TP/(TP+FP)\n",
    "\n",
    "def recall(TP,FN):\n",
    "    return 1.*TP/(TP+FN)\n",
    "\n",
    "def accuracy(TP,FP,TN,FN):\n",
    "    return 1.*(TP+TN)/(TP+FP+TN+FN)"
   ]
  },
  {
   "cell_type": "markdown",
   "metadata": {},
   "source": [
    "<b>¿Cuál es la precisión y recall en...?"
   ]
  },
  {
   "cell_type": "code",
   "execution_count": 12,
   "metadata": {},
   "outputs": [],
   "source": [
    "text = \"The theology and the practice of the other\"\n",
    "n_true = 3 #The the the\n",
    "n_false = 2 #theology other"
   ]
  },
  {
   "cell_type": "code",
   "execution_count": 13,
   "metadata": {},
   "outputs": [
    {
     "data": {
      "text/plain": [
       "'The *ology and * practice of * o*r'"
      ]
     },
     "execution_count": 13,
     "metadata": {},
     "output_type": "execute_result"
    }
   ],
   "source": [
    "#(1)\n",
    "re.sub(r\"the\",\"*\", text)"
   ]
  },
  {
   "cell_type": "code",
   "execution_count": 14,
   "metadata": {},
   "outputs": [],
   "source": [
    "true_positives = 2 #the the\n",
    "false_positives = 2 #theology other\n",
    "true_negatives = 0\n",
    "false_negatives = 1 #The"
   ]
  },
  {
   "cell_type": "code",
   "execution_count": 16,
   "metadata": {},
   "outputs": [
    {
     "name": "stdout",
     "output_type": "stream",
     "text": [
      "Precision: 0.5\n",
      "Recall: 0.6666666666666666\n",
      "Accuracy: 0.4\n"
     ]
    }
   ],
   "source": [
    "print(\"Precision:\",precision(true_positives, false_positives))\n",
    "print(\"Recall:\",recall(true_positives, false_negatives))\n",
    "print(\"Accuracy:\",accuracy(true_positives, false_positives, true_negatives, false_negatives))"
   ]
  },
  {
   "cell_type": "code",
   "execution_count": 17,
   "metadata": {},
   "outputs": [
    {
     "data": {
      "text/plain": [
       "'* *ology and * practice of * o*r'"
      ]
     },
     "execution_count": 17,
     "metadata": {},
     "output_type": "execute_result"
    }
   ],
   "source": [
    "#(2)\n",
    "re.sub(r\"[tT]he\",\"*\", text)"
   ]
  },
  {
   "cell_type": "code",
   "execution_count": 18,
   "metadata": {},
   "outputs": [],
   "source": [
    "true_positives = 3 #The the the\n",
    "false_positives = 2 #theology other\n",
    "true_negatives = 0\n",
    "false_negatives = 0"
   ]
  },
  {
   "cell_type": "code",
   "execution_count": 19,
   "metadata": {},
   "outputs": [
    {
     "name": "stdout",
     "output_type": "stream",
     "text": [
      "Precision: 0.6\n",
      "Recall: 1.0\n",
      "Accuracy: 0.6\n"
     ]
    }
   ],
   "source": [
    "print(\"Precision:\",precision(true_positives, false_positives))\n",
    "print(\"Recall:\",recall(true_positives, false_negatives))\n",
    "print(\"Accuracy:\",accuracy(true_positives, false_positives, true_negatives, false_negatives))"
   ]
  },
  {
   "cell_type": "code",
   "execution_count": null,
   "metadata": {},
   "outputs": [],
   "source": [
    "re.sub(r\"\\b[tT]he\\b\",\"*\", text)"
   ]
  },
  {
   "cell_type": "code",
   "execution_count": null,
   "metadata": {},
   "outputs": [],
   "source": [
    "true_positives = 3 #The the the\n",
    "false_positives = 0 \n",
    "true_negatives = 2 #theology other\n",
    "false_negatives = 0"
   ]
  },
  {
   "cell_type": "code",
   "execution_count": null,
   "metadata": {},
   "outputs": [],
   "source": [
    "print \"Precision:\",precision(true_positives, false_positives)\n",
    "print \"Recall:\",recall(true_positives, false_negatives)\n",
    "print \"Accuracy:\",accuracy(true_positives, false_positives, true_negatives, false_negatives)"
   ]
  },
  {
   "cell_type": "markdown",
   "metadata": {},
   "source": [
    "### Ejercicio: Búsqueda con RE\n",
    "Quiero comprar una computadora con las siguientes especificaciones..."
   ]
  },
  {
   "cell_type": "code",
   "execution_count": 20,
   "metadata": {},
   "outputs": [],
   "source": [
    "query = \"cualquier computador con procesador de 6 GHz y 500 GB de almacenamiento por menos de $1000.01\""
   ]
  },
  {
   "cell_type": "code",
   "execution_count": 21,
   "metadata": {},
   "outputs": [
    {
     "data": {
      "text/plain": [
       "['$1000']"
      ]
     },
     "execution_count": 21,
     "metadata": {},
     "output_type": "execute_result"
    }
   ],
   "source": [
    "#Precio:\n",
    "re.findall(r\"\\$[0-9]+\",query)"
   ]
  },
  {
   "cell_type": "code",
   "execution_count": 22,
   "metadata": {},
   "outputs": [
    {
     "data": {
      "text/plain": [
       "[('$1000', '.01')]"
      ]
     },
     "execution_count": 22,
     "metadata": {},
     "output_type": "execute_result"
    }
   ],
   "source": [
    "#Precio con decimales?:\n",
    "re.findall(r\"(\\$[0-9]+)(.[0-9][0-9])?\",query)"
   ]
  },
  {
   "cell_type": "code",
   "execution_count": null,
   "metadata": {},
   "outputs": [],
   "source": [
    "#Limitando el término:\n",
    "re.findall(r\"\",query)\n",
    "#Fuente: https://stackoverflow.com/questions/18425386/re-findall-not-returning-full-match"
   ]
  },
  {
   "cell_type": "code",
   "execution_count": null,
   "metadata": {},
   "outputs": [],
   "source": [
    "#Reloj del procesador?\n",
    "re.findall(r\"...(GHz|[gG]igahertz)\", query)"
   ]
  },
  {
   "cell_type": "code",
   "execution_count": null,
   "metadata": {},
   "outputs": [],
   "source": [
    "#Almacenamiento?"
   ]
  },
  {
   "cell_type": "code",
   "execution_count": null,
   "metadata": {},
   "outputs": [],
   "source": []
  },
  {
   "cell_type": "markdown",
   "metadata": {},
   "source": [
    "### Aplicación: ELIZA"
   ]
  },
  {
   "cell_type": "markdown",
   "metadata": {},
   "source": [
    "<img src=\"ELIZA.png\" width=\"600\" align=\"left\">\n",
    "<img src=\"ELIZA_answers.png\" width=\"600\" align=\"left\">"
   ]
  },
  {
   "cell_type": "code",
   "execution_count": 23,
   "metadata": {},
   "outputs": [],
   "source": [
    "user1 = \"Men are all alike\"\n",
    "user2 = \"They're always bugging as about something or other\"\n",
    "user3 = \"Well, my boyfriend made me come here\"\n",
    "user4 = \"He says I'm depressed much of the time\""
   ]
  },
  {
   "cell_type": "markdown",
   "metadata": {},
   "source": [
    "<b>Responder a los usuarios usando RE (\"search\" y \"group\"):"
   ]
  },
  {
   "cell_type": "code",
   "execution_count": 25,
   "metadata": {},
   "outputs": [
    {
     "name": "stdout",
     "output_type": "stream",
     "text": [
      "Men are all alike\n",
      "IN WHAT WAY?\n",
      "<_sre.SRE_Match object; span=(8, 11), match='all'>\n"
     ]
    }
   ],
   "source": [
    "print(user1)\n",
    "m1 = re.search(r\"all\",user1)\n",
    "if m1:\n",
    "    print(\"IN WHAT WAY?\")\n",
    "print(m1)"
   ]
  },
  {
   "cell_type": "code",
   "execution_count": 26,
   "metadata": {},
   "outputs": [
    {
     "name": "stdout",
     "output_type": "stream",
     "text": [
      "WHY DO YOU THINK YOU ARE DEPRESSED?\n"
     ]
    }
   ],
   "source": [
    "m4 = re.search(r\"(I'm|I am) (depressed|sad)\",user4)\n",
    "if m4:\n",
    "    print(\"WHY DO YOU THINK YOU ARE \" + m4.group(2).upper() + '?')"
   ]
  },
  {
   "cell_type": "code",
   "execution_count": 27,
   "metadata": {},
   "outputs": [],
   "source": [
    "def ELIZA(user_text):\n",
    "    m1 = re.search(r\"\\ball\\b\",user_text)\n",
    "    if m1:\n",
    "        print(\"IN WHAT WAY?\")\n",
    "    m2 = re.search(r\"\\balways\\b\",user_text)\n",
    "    if m2:\n",
    "        print(\"CAN YOU THINK OF A SPECIFIC EXAMPLE\")\n",
    "    m4 = re.search(r\"(I'm|I am) (depressed|sad)\",user_text)\n",
    "    if m4:\n",
    "        print(\"WHY DO YOU THINK YOU ARE \" + m4.group(2).upper() + '?')"
   ]
  },
  {
   "cell_type": "code",
   "execution_count": 31,
   "metadata": {},
   "outputs": [
    {
     "name": "stdout",
     "output_type": "stream",
     "text": [
      "WHY DO YOU THINK YOU ARE SAD?\n"
     ]
    }
   ],
   "source": [
    "ELIZA(\"I'm sad\")"
   ]
  },
  {
   "cell_type": "code",
   "execution_count": 29,
   "metadata": {},
   "outputs": [
    {
     "name": "stdout",
     "output_type": "stream",
     "text": [
      "WHY DO YOU THINK YOU ARE DEPRESSED?\n"
     ]
    }
   ],
   "source": [
    "ELIZA(\"He says I'm depressed much of the time\")"
   ]
  },
  {
   "cell_type": "code",
   "execution_count": 30,
   "metadata": {},
   "outputs": [
    {
     "name": "stdout",
     "output_type": "stream",
     "text": [
      "CAN YOU THINK OF A SPECIFIC EXAMPLE\n"
     ]
    }
   ],
   "source": [
    "ELIZA(\"They're always bugging as about something or other\")"
   ]
  },
  {
   "cell_type": "code",
   "execution_count": 46,
   "metadata": {},
   "outputs": [],
   "source": [
    "text = \"This is a test text text this\""
   ]
  },
  {
   "cell_type": "code",
   "execution_count": 52,
   "metadata": {},
   "outputs": [],
   "source": [
    "tokens = text.lower().split(' ')"
   ]
  },
  {
   "cell_type": "code",
   "execution_count": 53,
   "metadata": {},
   "outputs": [],
   "source": [
    "num_tokens = len(tokens)"
   ]
  },
  {
   "cell_type": "code",
   "execution_count": 54,
   "metadata": {},
   "outputs": [],
   "source": [
    "V = len(list(set(tokens)))"
   ]
  },
  {
   "cell_type": "code",
   "execution_count": 55,
   "metadata": {},
   "outputs": [],
   "source": [
    "from collections import Counter"
   ]
  },
  {
   "cell_type": "code",
   "execution_count": 56,
   "metadata": {},
   "outputs": [
    {
     "data": {
      "text/plain": [
       "Counter({'a': 1, 'is': 1, 'test': 1, 'text': 2, 'this': 2})"
      ]
     },
     "execution_count": 56,
     "metadata": {},
     "output_type": "execute_result"
    }
   ],
   "source": [
    "Counter(tokens)"
   ]
  }
 ],
 "metadata": {
  "kernelspec": {
   "display_name": "Python 3",
   "language": "python",
   "name": "python3"
  },
  "language_info": {
   "codemirror_mode": {
    "name": "ipython",
    "version": 3
   },
   "file_extension": ".py",
   "mimetype": "text/x-python",
   "name": "python",
   "nbconvert_exporter": "python",
   "pygments_lexer": "ipython3",
   "version": "3.6.4"
  }
 },
 "nbformat": 4,
 "nbformat_minor": 2
}
